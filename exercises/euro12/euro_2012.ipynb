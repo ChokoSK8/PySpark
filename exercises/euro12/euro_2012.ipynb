{
 "cells": [
  {
   "cell_type": "code",
   "execution_count": 39,
   "id": "7fd57c76-8330-4f28-96ac-6ddad1b081c4",
   "metadata": {},
   "outputs": [],
   "source": [
    "import os\n",
    "import spark\n",
    "import requests\n",
    "from os.path import exists\n",
    "from pyspark.sql import SparkSession\n",
    "from pyspark.sql.functions import col, sum, avg, max as spmax, mean\n",
    "from pyspark.sql.types import FloatType, IntegerType"
   ]
  },
  {
   "cell_type": "code",
   "execution_count": 2,
   "id": "f593231d-c644-4d43-a376-2827961b3621",
   "metadata": {},
   "outputs": [],
   "source": [
    "url = 'https://raw.githubusercontent.com/guipsamora/pandas_exercises/master/02_Filtering_%26_Sorting/Euro12/Euro_2012_stats_TEAM.csv'\n",
    "spark = SparkSession.builder.appName('euro_2012').getOrCreate()"
   ]
  },
  {
   "cell_type": "code",
   "execution_count": 3,
   "id": "2646a238-46cc-4459-bf3a-12fbfdf9218f",
   "metadata": {},
   "outputs": [],
   "source": [
    "response = requests.get(url)"
   ]
  },
  {
   "cell_type": "code",
   "execution_count": 6,
   "id": "b747fb18-086d-4656-a111-0e3fa35839d4",
   "metadata": {},
   "outputs": [
    {
     "name": "stdout",
     "output_type": "stream",
     "text": [
      "Download succed\n"
     ]
    }
   ],
   "source": [
    "if response.status_code == 200:\n",
    "    spliter = url.split('/')\n",
    "    filename = spliter[len(spliter) - 1]\n",
    "    if not exists(filename):\n",
    "        if open(filename, 'wb').write(response.content) == False:\n",
    "            print('Download failed')\n",
    "        else:\n",
    "            print('Download succed')"
   ]
  },
  {
   "cell_type": "code",
   "execution_count": 13,
   "id": "18f24b75-55e1-4ba6-a160-cef19f4a4df3",
   "metadata": {},
   "outputs": [],
   "source": [
    "euro12 = spark.read.csv(filename, header=True)"
   ]
  },
  {
   "cell_type": "code",
   "execution_count": 15,
   "id": "00ade962-7f52-4b04-a839-67e9158ccd0b",
   "metadata": {},
   "outputs": [
    {
     "name": "stdout",
     "output_type": "stream",
     "text": [
      "+--------------+-----+---------------+----------------+-----------------+----------------+\n",
      "|          Team|Goals|Shots on target|Shots off target|Shooting Accuracy|% Goals-to-shots|\n",
      "+--------------+-----+---------------+----------------+-----------------+----------------+\n",
      "|       Croatia|    4|             13|              12|            51.9%|           16.0%|\n",
      "|Czech Republic|    4|             13|              18|            41.9%|           12.9%|\n",
      "|       Denmark|    4|             10|              10|            50.0%|           20.0%|\n",
      "|       England|    5|             11|              18|            50.0%|           17.2%|\n",
      "+--------------+-----+---------------+----------------+-----------------+----------------+\n",
      "only showing top 4 rows\n",
      "\n"
     ]
    }
   ],
   "source": [
    "euro12.select(euro12.columns[:6]).show(4)"
   ]
  },
  {
   "cell_type": "code",
   "execution_count": 17,
   "id": "195e5306-b228-44a3-943c-b7c8ca9ae28c",
   "metadata": {},
   "outputs": [
    {
     "data": {
      "text/plain": [
       "['Team',\n",
       " 'Goals',\n",
       " 'Shots on target',\n",
       " 'Shots off target',\n",
       " 'Shooting Accuracy',\n",
       " '% Goals-to-shots',\n",
       " 'Total shots (inc. Blocked)',\n",
       " 'Hit Woodwork',\n",
       " 'Penalty goals',\n",
       " 'Penalties not scored',\n",
       " 'Headed goals',\n",
       " 'Passes',\n",
       " 'Passes completed',\n",
       " 'Passing Accuracy',\n",
       " 'Touches',\n",
       " 'Crosses',\n",
       " 'Dribbles',\n",
       " 'Corners Taken',\n",
       " 'Tackles',\n",
       " 'Clearances',\n",
       " 'Interceptions',\n",
       " 'Clearances off line',\n",
       " 'Clean Sheets',\n",
       " 'Blocks',\n",
       " 'Goals conceded',\n",
       " 'Saves made',\n",
       " 'Saves-to-shots ratio',\n",
       " 'Fouls Won',\n",
       " 'Fouls Conceded',\n",
       " 'Offsides',\n",
       " 'Yellow Cards',\n",
       " 'Red Cards',\n",
       " 'Subs on',\n",
       " 'Subs off',\n",
       " 'Players Used']"
      ]
     },
     "execution_count": 17,
     "metadata": {},
     "output_type": "execute_result"
    }
   ],
   "source": [
    "euro12.columns"
   ]
  },
  {
   "cell_type": "code",
   "execution_count": 19,
   "id": "8579824d-5008-4160-a36a-e27d3e243cb1",
   "metadata": {},
   "outputs": [
    {
     "name": "stdout",
     "output_type": "stream",
     "text": [
      "+-----+\n",
      "|Goals|\n",
      "+-----+\n",
      "|    4|\n",
      "|    4|\n",
      "|    4|\n",
      "|    5|\n",
      "|    3|\n",
      "|   10|\n",
      "|    5|\n",
      "|    6|\n",
      "|    2|\n",
      "|    2|\n",
      "|    6|\n",
      "|    1|\n",
      "|    5|\n",
      "|   12|\n",
      "|    5|\n",
      "|    2|\n",
      "+-----+\n",
      "\n"
     ]
    }
   ],
   "source": [
    "euro12.select('Goals').show()"
   ]
  },
  {
   "cell_type": "code",
   "execution_count": 21,
   "id": "fefccc9b-d11c-411c-b8bf-349737cc9da3",
   "metadata": {},
   "outputs": [
    {
     "data": {
      "text/plain": [
       "16"
      ]
     },
     "execution_count": 21,
     "metadata": {},
     "output_type": "execute_result"
    }
   ],
   "source": [
    "euro12.select('Team').distinct().count()"
   ]
  },
  {
   "cell_type": "code",
   "execution_count": 22,
   "id": "26bbed29-f3ab-45ee-a6b6-d13e3e9f58a4",
   "metadata": {},
   "outputs": [],
   "source": [
    "discipline = euro12.select(\"Team\", \"Yellow Cards\", \"Red Cards\")"
   ]
  },
  {
   "cell_type": "code",
   "execution_count": 34,
   "id": "b9b094ac-fc8c-4609-8666-228cbcebfdfa",
   "metadata": {},
   "outputs": [],
   "source": [
    "discipline = discipline.withColumn(\"Yellow Cards\", col(\"Yellow Cards\").cast(IntegerType()))"
   ]
  },
  {
   "cell_type": "code",
   "execution_count": 36,
   "id": "ae408e23-c98a-43df-9d44-a8c51bc9a1bd",
   "metadata": {},
   "outputs": [],
   "source": [
    "discipline = discipline.withColumn(\"Red Cards\", col(\"Red Cards\").cast(IntegerType()))"
   ]
  },
  {
   "cell_type": "code",
   "execution_count": 35,
   "id": "7659baa4-cac9-4f7b-93ad-efff11d71e0a",
   "metadata": {},
   "outputs": [
    {
     "name": "stdout",
     "output_type": "stream",
     "text": [
      "+-------------------+------------+---------+\n",
      "|               Team|Yellow Cards|Red Cards|\n",
      "+-------------------+------------+---------+\n",
      "|            Denmark|           4|        0|\n",
      "|            Germany|           4|        0|\n",
      "|        Netherlands|           5|        0|\n",
      "|            Ukraine|           5|        0|\n",
      "|            England|           5|        0|\n",
      "|             Russia|           6|        0|\n",
      "|             France|           6|        0|\n",
      "|Republic of Ireland|           6|        1|\n",
      "|             Poland|           7|        1|\n",
      "|             Sweden|           7|        0|\n",
      "|     Czech Republic|           7|        0|\n",
      "|            Croatia|           9|        0|\n",
      "|             Greece|           9|        1|\n",
      "|              Spain|          11|        0|\n",
      "|           Portugal|          12|        0|\n",
      "|              Italy|          16|        0|\n",
      "+-------------------+------------+---------+\n",
      "\n"
     ]
    }
   ],
   "source": [
    "discipline.sort(\"Yellow Cards\").show()"
   ]
  },
  {
   "cell_type": "code",
   "execution_count": 37,
   "id": "8311725e-cf8a-4877-a228-8d0fb7812350",
   "metadata": {},
   "outputs": [
    {
     "name": "stdout",
     "output_type": "stream",
     "text": [
      "+-------------------+------------+---------+\n",
      "|               Team|Yellow Cards|Red Cards|\n",
      "+-------------------+------------+---------+\n",
      "|     Czech Republic|           7|        0|\n",
      "|             France|           6|        0|\n",
      "|            Germany|           4|        0|\n",
      "|            Croatia|           9|        0|\n",
      "|            England|           5|        0|\n",
      "|           Portugal|          12|        0|\n",
      "|             Russia|           6|        0|\n",
      "|              Spain|          11|        0|\n",
      "|             Sweden|           7|        0|\n",
      "|            Ukraine|           5|        0|\n",
      "|              Italy|          16|        0|\n",
      "|            Denmark|           4|        0|\n",
      "|        Netherlands|           5|        0|\n",
      "|             Greece|           9|        1|\n",
      "|Republic of Ireland|           6|        1|\n",
      "|             Poland|           7|        1|\n",
      "+-------------------+------------+---------+\n",
      "\n"
     ]
    }
   ],
   "source": [
    "discipline.sort(\"Red Cards\").show()"
   ]
  },
  {
   "cell_type": "code",
   "execution_count": 24,
   "id": "d5faea3b-8fa9-411a-9ad8-1d4cb267e0f9",
   "metadata": {},
   "outputs": [
    {
     "name": "stdout",
     "output_type": "stream",
     "text": [
      "root\n",
      " |-- Team: string (nullable = true)\n",
      " |-- Yellow Cards: string (nullable = true)\n",
      " |-- Red Cards: string (nullable = true)\n",
      "\n"
     ]
    }
   ],
   "source": [
    "discipline.printSchema()"
   ]
  },
  {
   "cell_type": "code",
   "execution_count": 40,
   "id": "56146858-02cd-4167-9669-2745cee2bb32",
   "metadata": {},
   "outputs": [
    {
     "name": "stdout",
     "output_type": "stream",
     "text": [
      "+-----------------+\n",
      "|avg(Yellow Cards)|\n",
      "+-----------------+\n",
      "|           7.4375|\n",
      "+-----------------+\n",
      "\n"
     ]
    }
   ],
   "source": [
    "discipline.select(mean('Yellow Cards')).show()"
   ]
  },
  {
   "cell_type": "code",
   "execution_count": 41,
   "id": "0b13fb0c-3469-4c98-9825-dde2e777cf64",
   "metadata": {},
   "outputs": [
    {
     "name": "stdout",
     "output_type": "stream",
     "text": [
      "+--------------+\n",
      "|avg(Red Cards)|\n",
      "+--------------+\n",
      "|        0.1875|\n",
      "+--------------+\n",
      "\n"
     ]
    }
   ],
   "source": [
    "discipline.select(mean('Red Cards')).show()"
   ]
  },
  {
   "cell_type": "code",
   "execution_count": 45,
   "id": "a7d76131-c46e-4423-aa81-26c1ffe49cd6",
   "metadata": {},
   "outputs": [
    {
     "name": "stdout",
     "output_type": "stream",
     "text": [
      "+-------+-----+\n",
      "|   Team|Goals|\n",
      "+-------+-----+\n",
      "|Germany|   10|\n",
      "|  Spain|   12|\n",
      "+-------+-----+\n",
      "\n"
     ]
    }
   ],
   "source": [
    "euro12.filter(euro12['Goals'] > 6).select('Team', 'Goals').show()"
   ]
  },
  {
   "cell_type": "code",
   "execution_count": 48,
   "id": "b535bd74-fa9a-4efc-9778-a051d4951101",
   "metadata": {},
   "outputs": [
    {
     "name": "stdout",
     "output_type": "stream",
     "text": [
      "+-------+\n",
      "|   Team|\n",
      "+-------+\n",
      "|Germany|\n",
      "| Greece|\n",
      "+-------+\n",
      "\n"
     ]
    }
   ],
   "source": [
    "euro12.filter(col('Team').like('G%')).select('Team').show()"
   ]
  },
  {
   "cell_type": "code",
   "execution_count": 58,
   "id": "6db5ea70-cdcf-49b4-8087-98e74afbdd79",
   "metadata": {},
   "outputs": [
    {
     "data": {
      "text/plain": [
       "['Team',\n",
       " 'Goals',\n",
       " 'Shots on target',\n",
       " 'Shots off target',\n",
       " 'Shooting Accuracy',\n",
       " '% Goals-to-shots',\n",
       " 'Total shots (inc. Blocked)',\n",
       " 'Hit Woodwork',\n",
       " 'Penalty goals',\n",
       " 'Penalties not scored',\n",
       " 'Headed goals',\n",
       " 'Passes',\n",
       " 'Passes completed',\n",
       " 'Passing Accuracy',\n",
       " 'Touches',\n",
       " 'Crosses',\n",
       " 'Dribbles',\n",
       " 'Corners Taken',\n",
       " 'Tackles',\n",
       " 'Clearances',\n",
       " 'Interceptions',\n",
       " 'Clearances off line',\n",
       " 'Clean Sheets',\n",
       " 'Blocks',\n",
       " 'Goals conceded',\n",
       " 'Saves made',\n",
       " 'Saves-to-shots ratio',\n",
       " 'Fouls Won',\n",
       " 'Fouls Conceded',\n",
       " 'Offsides',\n",
       " 'Yellow Cards',\n",
       " 'Red Cards',\n",
       " 'Subs on',\n",
       " 'Subs off',\n",
       " 'Players Used']"
      ]
     },
     "execution_count": 58,
     "metadata": {},
     "output_type": "execute_result"
    }
   ],
   "source": [
    "euro12.columns"
   ]
  },
  {
   "cell_type": "code",
   "execution_count": 66,
   "id": "73b47a17-0867-45e3-976d-8d6e56f89f49",
   "metadata": {},
   "outputs": [
    {
     "data": {
      "text/plain": [
       "DataFrame[Hit Woodwork: string, Penalty goals: string, Penalties not scored: string, Headed goals: string, Passes: string, Passes completed: string, Passing Accuracy: string, Touches: string, Crosses: string, Dribbles: string, Corners Taken: string, Tackles: string, Clearances: string, Interceptions: string, Clearances off line: string, Clean Sheets: string, Blocks: string, Goals conceded: string, Saves made: string, Saves-to-shots ratio: string, Fouls Won: string, Fouls Conceded: string, Offsides: string, Yellow Cards: string, Red Cards: string]"
      ]
     },
     "execution_count": 66,
     "metadata": {},
     "output_type": "execute_result"
    }
   ],
   "source": [
    "n = len(euro12.columns) - 3\n",
    "euro12.select(euro12.columns[7:-3])"
   ]
  },
  {
   "cell_type": "code",
   "execution_count": 67,
   "id": "a56ec9e2-4c7e-41f6-8438-7d0534d4a45a",
   "metadata": {},
   "outputs": [
    {
     "name": "stdout",
     "output_type": "stream",
     "text": [
      "+-------+-----------------+\n",
      "|   Team|Shooting Accuracy|\n",
      "+-------+-----------------+\n",
      "|England|            50.0%|\n",
      "|  Italy|            43.0%|\n",
      "| Russia|            22.5%|\n",
      "+-------+-----------------+\n",
      "\n"
     ]
    }
   ],
   "source": [
    "euro12.filter(col(\"Team\").isin([\"England\", \"Italy\", \"Russia\"])).select(\"Team\", \"Shooting Accuracy\").show()"
   ]
  },
  {
   "cell_type": "code",
   "execution_count": null,
   "id": "9fcbc447-e5b1-4ca2-a6fb-dd49c619ead4",
   "metadata": {},
   "outputs": [],
   "source": []
  }
 ],
 "metadata": {
  "kernelspec": {
   "display_name": "Python 3 (ipykernel)",
   "language": "python",
   "name": "python3"
  },
  "language_info": {
   "codemirror_mode": {
    "name": "ipython",
    "version": 3
   },
   "file_extension": ".py",
   "mimetype": "text/x-python",
   "name": "python",
   "nbconvert_exporter": "python",
   "pygments_lexer": "ipython3",
   "version": "3.10.8"
  }
 },
 "nbformat": 4,
 "nbformat_minor": 5
}
