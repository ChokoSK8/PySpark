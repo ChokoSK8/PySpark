{
 "cells": [
  {
   "cell_type": "code",
   "execution_count": 7,
   "id": "4fd17ebb-c8a2-4dfc-b2fa-e97b66b3abb2",
   "metadata": {},
   "outputs": [
    {
     "name": "stdout",
     "output_type": "stream",
     "text": [
      "Requirement already satisfied: spark in /opt/conda/lib/python3.10/site-packages (0.2.1)\n",
      "Requirement already satisfied: requests in /opt/conda/lib/python3.10/site-packages (2.28.1)\n",
      "Requirement already satisfied: urllib3<1.27,>=1.21.1 in /opt/conda/lib/python3.10/site-packages (from requests) (1.26.13)\n",
      "Requirement already satisfied: certifi>=2017.4.17 in /opt/conda/lib/python3.10/site-packages (from requests) (2022.12.7)\n",
      "Requirement already satisfied: charset-normalizer<3,>=2 in /opt/conda/lib/python3.10/site-packages (from requests) (2.1.1)\n",
      "Requirement already satisfied: idna<4,>=2.5 in /opt/conda/lib/python3.10/site-packages (from requests) (3.4)\n",
      "Note: you may need to restart the kernel to use updated packages.\n"
     ]
    }
   ],
   "source": [
    "pip install spark requests"
   ]
  },
  {
   "cell_type": "code",
   "execution_count": 168,
   "id": "91ec3633-d0c4-4e98-92aa-4a6b37a48a0d",
   "metadata": {},
   "outputs": [],
   "source": [
    "import pyspark\n",
    "import requests\n",
    "import os\n",
    "from pyspark.sql import SparkSession\n",
    "from pyspark.sql.functions import col, sum, regexp_replace, avg, mean\n",
    "from pyspark.sql.types import FloatType\n",
    "from os.path import exists"
   ]
  },
  {
   "cell_type": "code",
   "execution_count": 83,
   "id": "c61c0957-132f-408e-8ac7-08c3c4a76d34",
   "metadata": {},
   "outputs": [],
   "source": [
    "spark = SparkSession.builder.appName('Exercise').getOrCreate()\n",
    "url = 'https://raw.githubusercontent.com/justmarkham/DAT8/master/data/chipotle.tsv'"
   ]
  },
  {
   "cell_type": "code",
   "execution_count": 84,
   "id": "7c422912-0b74-4d6c-995d-aff1bfb51229",
   "metadata": {},
   "outputs": [],
   "source": [
    "response = requests.get(url)"
   ]
  },
  {
   "cell_type": "code",
   "execution_count": 85,
   "id": "e64169b8-de07-4816-83fd-5a13de8892ea",
   "metadata": {},
   "outputs": [],
   "source": [
    "if (response.status_code == 200):\n",
    "    spliter = url.split('/')\n",
    "    filename = spliter[len(spliter) - 1]\n",
    "    if not exists(filename):\n",
    "        if open(filename, \"wb\").write(response.content) == False:\n",
    "            print(\"Download failed\")\n",
    "        else:\n",
    "            print(\"Download succeced\")"
   ]
  },
  {
   "cell_type": "code",
   "execution_count": 111,
   "id": "6b9d04fd-1ed4-4718-b291-eb9f20dec669",
   "metadata": {},
   "outputs": [],
   "source": [
    "df = spark.read.csv(filename, sep=r'\\t', header=True, inferSchema=True)"
   ]
  },
  {
   "cell_type": "code",
   "execution_count": 99,
   "id": "0f41515f-50ba-434b-9cbb-d69ea2941888",
   "metadata": {},
   "outputs": [
    {
     "name": "stdout",
     "output_type": "stream",
     "text": [
      "+--------+--------+--------------------+--------------------+----------+\n",
      "|order_id|quantity|           item_name|  choice_description|item_price|\n",
      "+--------+--------+--------------------+--------------------+----------+\n",
      "|       1|       1|Chips and Fresh T...|                NULL|    $2.39 |\n",
      "|       1|       1|                Izze|        [Clementine]|    $3.39 |\n",
      "|       1|       1|    Nantucket Nectar|             [Apple]|    $3.39 |\n",
      "|       1|       1|Chips and Tomatil...|                NULL|    $2.39 |\n",
      "|       2|       2|        Chicken Bowl|[Tomatillo-Red Ch...|   $16.98 |\n",
      "|       3|       1|        Chicken Bowl|[Fresh Tomato Sal...|   $10.98 |\n",
      "|       3|       1|       Side of Chips|                NULL|    $1.69 |\n",
      "|       4|       1|       Steak Burrito|[Tomatillo Red Ch...|   $11.75 |\n",
      "|       4|       1|    Steak Soft Tacos|[Tomatillo Green ...|    $9.25 |\n",
      "|       5|       1|       Steak Burrito|[Fresh Tomato Sal...|    $9.25 |\n",
      "|       5|       1| Chips and Guacamole|                NULL|    $4.45 |\n",
      "|       6|       1|Chicken Crispy Tacos|[Roasted Chili Co...|    $8.75 |\n",
      "|       6|       1|  Chicken Soft Tacos|[Roasted Chili Co...|    $8.75 |\n",
      "|       7|       1|        Chicken Bowl|[Fresh Tomato Sal...|   $11.25 |\n",
      "|       7|       1| Chips and Guacamole|                NULL|    $4.45 |\n",
      "|       8|       1|Chips and Tomatil...|                NULL|    $2.39 |\n",
      "|       8|       1|     Chicken Burrito|[Tomatillo-Green ...|    $8.49 |\n",
      "|       9|       1|     Chicken Burrito|[Fresh Tomato Sal...|    $8.49 |\n",
      "|       9|       2|         Canned Soda|            [Sprite]|    $2.18 |\n",
      "|      10|       1|        Chicken Bowl|[Tomatillo Red Ch...|    $8.75 |\n",
      "+--------+--------+--------------------+--------------------+----------+\n",
      "only showing top 20 rows\n",
      "\n"
     ]
    }
   ],
   "source": [
    "df.show()"
   ]
  },
  {
   "cell_type": "code",
   "execution_count": 88,
   "id": "225fe3ad-56f7-4018-afe5-37ae6dffa794",
   "metadata": {},
   "outputs": [
    {
     "data": {
      "text/plain": [
       "4622"
      ]
     },
     "execution_count": 88,
     "metadata": {},
     "output_type": "execute_result"
    }
   ],
   "source": [
    "df.count()"
   ]
  },
  {
   "cell_type": "code",
   "execution_count": 89,
   "id": "9d511d7d-85c9-4eb7-bf13-d7183d907019",
   "metadata": {},
   "outputs": [
    {
     "data": {
      "text/plain": [
       "5"
      ]
     },
     "execution_count": 89,
     "metadata": {},
     "output_type": "execute_result"
    }
   ],
   "source": [
    "len(df.columns)"
   ]
  },
  {
   "cell_type": "code",
   "execution_count": 90,
   "id": "d6d60258-bb42-4973-9605-97bdde9e1d43",
   "metadata": {},
   "outputs": [
    {
     "data": {
      "text/plain": [
       "['order_id', 'quantity', 'item_name', 'choice_description', 'item_price']"
      ]
     },
     "execution_count": 90,
     "metadata": {},
     "output_type": "execute_result"
    }
   ],
   "source": [
    "df.columns"
   ]
  },
  {
   "cell_type": "code",
   "execution_count": null,
   "id": "81bb797d-45b2-4ccd-8740-5a9efb20530b",
   "metadata": {},
   "outputs": [],
   "source": []
  },
  {
   "cell_type": "code",
   "execution_count": 91,
   "id": "cefcd651-7c66-4f54-b115-a95804199fba",
   "metadata": {},
   "outputs": [
    {
     "name": "stdout",
     "output_type": "stream",
     "text": [
      "+------------+-----+\n",
      "|   item_name|count|\n",
      "+------------+-----+\n",
      "|Chicken Bowl|  726|\n",
      "+------------+-----+\n",
      "only showing top 1 row\n",
      "\n"
     ]
    }
   ],
   "source": [
    "df.groupby('item_name').count().orderBy(col(\"count\").desc()).show(1)\n"
   ]
  },
  {
   "cell_type": "code",
   "execution_count": 92,
   "id": "161d7c7e-135e-4780-8eb3-37cc201a3e45",
   "metadata": {},
   "outputs": [
    {
     "name": "stdout",
     "output_type": "stream",
     "text": [
      "+------------------+-----+\n",
      "|choice_description|count|\n",
      "+------------------+-----+\n",
      "|       [Diet Coke]|  134|\n",
      "+------------------+-----+\n",
      "only showing top 1 row\n",
      "\n"
     ]
    }
   ],
   "source": [
    "df.filter(df['choice_description'] != 'NULL').groupby('choice_description').count().orderBy(col(\"count\").desc()).show(1)"
   ]
  },
  {
   "cell_type": "code",
   "execution_count": 93,
   "id": "51440bb3-7909-4f58-a962-3740a8b4201f",
   "metadata": {},
   "outputs": [
    {
     "name": "stdout",
     "output_type": "stream",
     "text": [
      "+-------------+\n",
      "|sum(quantity)|\n",
      "+-------------+\n",
      "|         4972|\n",
      "+-------------+\n",
      "\n"
     ]
    }
   ],
   "source": [
    "df.select(sum(df.quantity)).show()"
   ]
  },
  {
   "cell_type": "code",
   "execution_count": 94,
   "id": "18eb2a10-06b4-49c0-ae9b-75d5c39c8a9f",
   "metadata": {},
   "outputs": [
    {
     "name": "stdout",
     "output_type": "stream",
     "text": [
      "root\n",
      " |-- order_id: integer (nullable = true)\n",
      " |-- quantity: integer (nullable = true)\n",
      " |-- item_name: string (nullable = true)\n",
      " |-- choice_description: string (nullable = true)\n",
      " |-- item_price: string (nullable = true)\n",
      "\n"
     ]
    }
   ],
   "source": [
    "df.printSchema()"
   ]
  },
  {
   "cell_type": "code",
   "execution_count": 133,
   "id": "145f65a7-3f40-4e95-ae0e-4afe1df8d300",
   "metadata": {},
   "outputs": [],
   "source": [
    "df = df.withColumn('item_price', regexp_replace(col('item_price'), \"[$]\", \"\").alias(\"replaced\"))"
   ]
  },
  {
   "cell_type": "code",
   "execution_count": 137,
   "id": "358ddf85-c2e4-4d33-afa5-796e849d4f44",
   "metadata": {},
   "outputs": [],
   "source": [
    "df = df.withColumn(\"item_price\", df.item_price.cast(FloatType()))"
   ]
  },
  {
   "cell_type": "code",
   "execution_count": 138,
   "id": "42489434-e79a-4a54-98b4-7d2aaf406b37",
   "metadata": {},
   "outputs": [
    {
     "name": "stdout",
     "output_type": "stream",
     "text": [
      "+------------------+\n",
      "|   sum(item_price)|\n",
      "+------------------+\n",
      "|34500.159754514694|\n",
      "+------------------+\n",
      "\n"
     ]
    }
   ],
   "source": [
    "df.select(sum(df.item_price)).show()"
   ]
  },
  {
   "cell_type": "code",
   "execution_count": 142,
   "id": "6cf46918-473b-41d9-a8af-1ecafc3fb779",
   "metadata": {},
   "outputs": [
    {
     "name": "stdout",
     "output_type": "stream",
     "text": [
      "+--------+--------+------------------+--------------------+----------+\n",
      "|order_id|quantity|         item_name|  choice_description|item_price|\n",
      "+--------+--------+------------------+--------------------+----------+\n",
      "|    1834|       1|Chicken Salad Bowl|[Fresh Tomato Sal...|     11.25|\n",
      "+--------+--------+------------------+--------------------+----------+\n",
      "only showing top 1 row\n",
      "\n"
     ]
    }
   ],
   "source": [
    "df.orderBy(col(\"order_id\").desc()).show(1)"
   ]
  },
  {
   "cell_type": "code",
   "execution_count": 156,
   "id": "fb077b3c-96c2-440c-bfd2-6824d7425110",
   "metadata": {},
   "outputs": [],
   "source": [
    "df = df\n",
    "tmp = df.groupby(\"order_id\").sum(\"item_price\")"
   ]
  },
  {
   "cell_type": "code",
   "execution_count": 169,
   "id": "dd30468a-0d2a-49ba-939e-c29b662d73dd",
   "metadata": {},
   "outputs": [
    {
     "name": "stdout",
     "output_type": "stream",
     "text": [
      "+--------------------+\n",
      "|avg(sum(item_price))|\n",
      "+--------------------+\n",
      "|   18.81142843757617|\n",
      "+--------------------+\n",
      "\n"
     ]
    }
   ],
   "source": [
    "tmp.select(mean(tmp[1])).show()"
   ]
  },
  {
   "cell_type": "code",
   "execution_count": 167,
   "id": "e1e9cfcb-8d18-47ce-8264-ba884f11493e",
   "metadata": {},
   "outputs": [
    {
     "data": {
      "text/plain": [
       "50"
      ]
     },
     "execution_count": 167,
     "metadata": {},
     "output_type": "execute_result"
    }
   ],
   "source": [
    "df.select(\"item_name\").distinct().count()"
   ]
  },
  {
   "cell_type": "code",
   "execution_count": 175,
   "id": "3a35409a-cdb8-452e-9e29-398eec61d9b5",
   "metadata": {},
   "outputs": [
    {
     "name": "stdout",
     "output_type": "stream",
     "text": [
      "+--------+-------------+-------------+------------------+\n",
      "|order_id|sum(order_id)|sum(quantity)|   sum(item_price)|\n",
      "+--------+-------------+-------------+------------------+\n",
      "|     148|          592|            4|  30.9399995803833|\n",
      "|     463|          926|            2|10.679999828338623|\n",
      "|     471|         2355|            5|24.149999618530273|\n",
      "|     496|         2480|            5|17.549999952316284|\n",
      "|     833|         1666|            2|             12.75|\n",
      "|    1088|         2176|            2|23.140000343322754|\n",
      "|    1238|         2476|            2|13.169999599456787|\n",
      "|    1342|         4026|            3|12.150000095367432|\n",
      "|    1580|         4740|            3| 21.46999955177307|\n",
      "|    1591|         1591|            2|              18.5|\n",
      "|    1645|         4935|            3|              12.0|\n",
      "|    1829|         5487|            3|             24.25|\n",
      "|     243|          243|            2|              22.5|\n",
      "|     392|         1176|            3|11.269999861717224|\n",
      "|     540|         1080|            2|13.699999809265137|\n",
      "|     623|         2492|            4|34.459999084472656|\n",
      "|     737|         2948|            5| 41.14999961853027|\n",
      "|     858|         1716|            2|13.699999809265137|\n",
      "|     897|         1794|            2|17.479999542236328|\n",
      "|    1025|         3075|            3|16.059999585151672|\n",
      "+--------+-------------+-------------+------------------+\n",
      "only showing top 20 rows\n",
      "\n"
     ]
    }
   ],
   "source": [
    "df.groupby('order_id').sum().show()"
   ]
  },
  {
   "cell_type": "code",
   "execution_count": null,
   "id": "092283e2-e925-44e2-ae82-10908c72bce9",
   "metadata": {},
   "outputs": [],
   "source": []
  }
 ],
 "metadata": {
  "kernelspec": {
   "display_name": "Python 3 (ipykernel)",
   "language": "python",
   "name": "python3"
  },
  "language_info": {
   "codemirror_mode": {
    "name": "ipython",
    "version": 3
   },
   "file_extension": ".py",
   "mimetype": "text/x-python",
   "name": "python",
   "nbconvert_exporter": "python",
   "pygments_lexer": "ipython3",
   "version": "3.10.8"
  }
 },
 "nbformat": 4,
 "nbformat_minor": 5
}
