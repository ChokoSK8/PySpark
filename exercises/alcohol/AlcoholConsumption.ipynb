{
 "cells": [
  {
   "cell_type": "code",
   "execution_count": 27,
   "id": "89fce479-767a-4406-ad7e-9f733f9427fc",
   "metadata": {},
   "outputs": [],
   "source": [
    "import os\n",
    "import spark\n",
    "import requests\n",
    "from os.path import exists\n",
    "from pyspark.sql import SparkSession\n",
    "import pyspark.sql.functions as F\n",
    "from pyspark.sql.types import IntegerType"
   ]
  },
  {
   "cell_type": "code",
   "execution_count": 30,
   "id": "f310e649-eaf0-410e-b5fb-89375bc11863",
   "metadata": {},
   "outputs": [],
   "source": [
    "spark = SparkSession.builder.appName('alcoholConsumption').getOrCreate()"
   ]
  },
  {
   "cell_type": "code",
   "execution_count": 3,
   "id": "7b6592ac-b561-42ea-9817-12648ed414d6",
   "metadata": {},
   "outputs": [],
   "source": [
    "url = 'https://raw.githubusercontent.com/justmarkham/DAT8/master/data/drinks.csv'"
   ]
  },
  {
   "cell_type": "code",
   "execution_count": 4,
   "id": "ca7caa12-9eb7-4cb4-9f76-7c73c6f7db1b",
   "metadata": {},
   "outputs": [
    {
     "name": "stdout",
     "output_type": "stream",
     "text": [
      "Download succed\n"
     ]
    }
   ],
   "source": [
    "response = requests.get(url)\n",
    "if response.status_code == 200:\n",
    "    spliter = url.split('/')\n",
    "    filename = spliter[len(spliter) - 1]\n",
    "    if not exists(filename):\n",
    "        if open(filename, 'wb').write(response.content) == False:\n",
    "            print('Download failed')\n",
    "        else:\n",
    "            print('Download succed')"
   ]
  },
  {
   "cell_type": "code",
   "execution_count": 31,
   "id": "c99e34b0-1f30-4425-a67b-5e07de9683b5",
   "metadata": {},
   "outputs": [],
   "source": [
    "df = spark.read.csv(filename, header=True)"
   ]
  },
  {
   "cell_type": "code",
   "execution_count": 6,
   "id": "32a3de5d-fbf5-4ef9-ba23-98cf5718a115",
   "metadata": {},
   "outputs": [
    {
     "name": "stdout",
     "output_type": "stream",
     "text": [
      "+-----------------+-------------+---------------+-------------+----------------------------+---------+\n",
      "|          country|beer_servings|spirit_servings|wine_servings|total_litres_of_pure_alcohol|continent|\n",
      "+-----------------+-------------+---------------+-------------+----------------------------+---------+\n",
      "|      Afghanistan|            0|              0|            0|                         0.0|       AS|\n",
      "|          Albania|           89|            132|           54|                         4.9|       EU|\n",
      "|          Algeria|           25|              0|           14|                         0.7|       AF|\n",
      "|          Andorra|          245|            138|          312|                        12.4|       EU|\n",
      "|           Angola|          217|             57|           45|                         5.9|       AF|\n",
      "|Antigua & Barbuda|          102|            128|           45|                         4.9|       NA|\n",
      "|        Argentina|          193|             25|          221|                         8.3|       SA|\n",
      "|          Armenia|           21|            179|           11|                         3.8|       EU|\n",
      "|        Australia|          261|             72|          212|                        10.4|       OC|\n",
      "|          Austria|          279|             75|          191|                         9.7|       EU|\n",
      "|       Azerbaijan|           21|             46|            5|                         1.3|       EU|\n",
      "|          Bahamas|          122|            176|           51|                         6.3|       NA|\n",
      "|          Bahrain|           42|             63|            7|                         2.0|       AS|\n",
      "|       Bangladesh|            0|              0|            0|                         0.0|       AS|\n",
      "|         Barbados|          143|            173|           36|                         6.3|       NA|\n",
      "|          Belarus|          142|            373|           42|                        14.4|       EU|\n",
      "|          Belgium|          295|             84|          212|                        10.5|       EU|\n",
      "|           Belize|          263|            114|            8|                         6.8|       NA|\n",
      "|            Benin|           34|              4|           13|                         1.1|       AF|\n",
      "|           Bhutan|           23|              0|            0|                         0.4|       AS|\n",
      "+-----------------+-------------+---------------+-------------+----------------------------+---------+\n",
      "only showing top 20 rows\n",
      "\n"
     ]
    }
   ],
   "source": [
    "df.show()"
   ]
  },
  {
   "cell_type": "code",
   "execution_count": 32,
   "id": "8e6d2597-6a2e-49d6-8940-c4e3b586fb3c",
   "metadata": {},
   "outputs": [
    {
     "name": "stdout",
     "output_type": "stream",
     "text": [
      "root\n",
      " |-- country: string (nullable = true)\n",
      " |-- beer_servings: string (nullable = true)\n",
      " |-- spirit_servings: string (nullable = true)\n",
      " |-- wine_servings: string (nullable = true)\n",
      " |-- total_litres_of_pure_alcohol: string (nullable = true)\n",
      " |-- continent: string (nullable = true)\n",
      "\n"
     ]
    }
   ],
   "source": [
    "df.printSchema()"
   ]
  },
  {
   "cell_type": "code",
   "execution_count": 33,
   "id": "b40981e4-73fe-4f76-9ed1-a549890351ee",
   "metadata": {},
   "outputs": [],
   "source": [
    "df = df.withColumn('beer_servings', col('beer_servings').cast(IntegerType()))"
   ]
  },
  {
   "cell_type": "code",
   "execution_count": 39,
   "id": "cd5ea95a-a086-4436-97e0-e29d13803b86",
   "metadata": {},
   "outputs": [],
   "source": [
    "df = df.withColumn('wine_servings', col('wine_servings').cast(IntegerType()))"
   ]
  },
  {
   "cell_type": "code",
   "execution_count": 34,
   "id": "558eaac7-1814-473b-8bc4-887f09e8ed89",
   "metadata": {},
   "outputs": [
    {
     "name": "stdout",
     "output_type": "stream",
     "text": [
      "+---------+------------------+\n",
      "|continent|sum(beer_servings)|\n",
      "+---------+------------------+\n",
      "|       EU|              8720|\n",
      "+---------+------------------+\n",
      "only showing top 1 row\n",
      "\n"
     ]
    }
   ],
   "source": [
    "df.groupby('continent').sum('beer_servings').orderBy(col('sum(beer_servings)').desc()).show(1)"
   ]
  },
  {
   "cell_type": "code",
   "execution_count": 35,
   "id": "9d57c218-ce0f-4f4e-91c7-e8e2a56f1c59",
   "metadata": {},
   "outputs": [
    {
     "name": "stdout",
     "output_type": "stream",
     "text": [
      "+-----------------+-------------+---------------+-------------+----------------------------+---------+\n",
      "|          country|beer_servings|spirit_servings|wine_servings|total_litres_of_pure_alcohol|continent|\n",
      "+-----------------+-------------+---------------+-------------+----------------------------+---------+\n",
      "|      Afghanistan|            0|              0|            0|                         0.0|       AS|\n",
      "|          Albania|           89|            132|           54|                         4.9|       EU|\n",
      "|          Algeria|           25|              0|           14|                         0.7|       AF|\n",
      "|          Andorra|          245|            138|          312|                        12.4|       EU|\n",
      "|           Angola|          217|             57|           45|                         5.9|       AF|\n",
      "|Antigua & Barbuda|          102|            128|           45|                         4.9|       NA|\n",
      "|        Argentina|          193|             25|          221|                         8.3|       SA|\n",
      "|          Armenia|           21|            179|           11|                         3.8|       EU|\n",
      "|        Australia|          261|             72|          212|                        10.4|       OC|\n",
      "|          Austria|          279|             75|          191|                         9.7|       EU|\n",
      "|       Azerbaijan|           21|             46|            5|                         1.3|       EU|\n",
      "|          Bahamas|          122|            176|           51|                         6.3|       NA|\n",
      "|          Bahrain|           42|             63|            7|                         2.0|       AS|\n",
      "|       Bangladesh|            0|              0|            0|                         0.0|       AS|\n",
      "|         Barbados|          143|            173|           36|                         6.3|       NA|\n",
      "|          Belarus|          142|            373|           42|                        14.4|       EU|\n",
      "|          Belgium|          295|             84|          212|                        10.5|       EU|\n",
      "|           Belize|          263|            114|            8|                         6.8|       NA|\n",
      "|            Benin|           34|              4|           13|                         1.1|       AF|\n",
      "|           Bhutan|           23|              0|            0|                         0.4|       AS|\n",
      "+-----------------+-------------+---------------+-------------+----------------------------+---------+\n",
      "only showing top 20 rows\n",
      "\n"
     ]
    }
   ],
   "source": [
    "df.show()"
   ]
  },
  {
   "cell_type": "code",
   "execution_count": 37,
   "id": "b9b33238-727b-4dd6-af5e-acc2f960abb7",
   "metadata": {},
   "outputs": [],
   "source": [
    "gdf = df.groupby('continent')"
   ]
  },
  {
   "cell_type": "code",
   "execution_count": 38,
   "id": "ca3e9a64-106b-4473-a887-4c136ef18fbf",
   "metadata": {},
   "outputs": [
    {
     "data": {
      "text/plain": [
       "[Row(continent='AF', count(1)=53),\n",
       " Row(continent='AS', count(1)=44),\n",
       " Row(continent='EU', count(1)=45),\n",
       " Row(continent='NA', count(1)=23),\n",
       " Row(continent='OC', count(1)=16),\n",
       " Row(continent='SA', count(1)=12)]"
      ]
     },
     "execution_count": 38,
     "metadata": {},
     "output_type": "execute_result"
    }
   ],
   "source": [
    "sorted(gdf.agg({\"*\": \"count\"}).collect())"
   ]
  },
  {
   "cell_type": "code",
   "execution_count": 48,
   "id": "563c1191-a629-4002-b7f5-94ee4f597520",
   "metadata": {},
   "outputs": [
    {
     "data": {
      "text/plain": [
       "[Row(continent='AF', min(wine_servings)='0', max(wine_servings)='9', avg(wine_servings)=16.264150943396228),\n",
       " Row(continent='AS', min(wine_servings)='0', max(wine_servings)='9', avg(wine_servings)=9.068181818181818),\n",
       " Row(continent='EU', min(wine_servings)='0', max(wine_servings)='97', avg(wine_servings)=142.22222222222223),\n",
       " Row(continent='NA', min(wine_servings)='1', max(wine_servings)='9', avg(wine_servings)=24.52173913043478),\n",
       " Row(continent='OC', min(wine_servings)='0', max(wine_servings)='9', avg(wine_servings)=35.625),\n",
       " Row(continent='SA', min(wine_servings)='1', max(wine_servings)='8', avg(wine_servings)=62.416666666666664)]"
      ]
     },
     "execution_count": 48,
     "metadata": {},
     "output_type": "execute_result"
    }
   ],
   "source": [
    "gdf.agg(F.min('wine_servings'), F.max('wine_servings'), F.avg('wine_servings')).collect()"
   ]
  },
  {
   "cell_type": "code",
   "execution_count": null,
   "id": "a3b96f0a-a93c-43cd-91dc-779213a85c7d",
   "metadata": {},
   "outputs": [],
   "source": []
  }
 ],
 "metadata": {
  "kernelspec": {
   "display_name": "Python 3 (ipykernel)",
   "language": "python",
   "name": "python3"
  },
  "language_info": {
   "codemirror_mode": {
    "name": "ipython",
    "version": 3
   },
   "file_extension": ".py",
   "mimetype": "text/x-python",
   "name": "python",
   "nbconvert_exporter": "python",
   "pygments_lexer": "ipython3",
   "version": "3.10.8"
  }
 },
 "nbformat": 4,
 "nbformat_minor": 5
}
