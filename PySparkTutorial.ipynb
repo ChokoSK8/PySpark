{
 "cells": [
  {
   "cell_type": "code",
   "execution_count": 1,
   "id": "ee0b3ef4-f8f6-4770-b0dc-269bb9538da7",
   "metadata": {},
   "outputs": [
    {
     "name": "stdout",
     "output_type": "stream",
     "text": [
      "Collecting spark\n",
      "  Downloading spark-0.2.1.tar.gz (41 kB)\n",
      "\u001b[2K     \u001b[90m━━━━━━━━━━━━━━━━━━━━━━━━━━━━━━━━━━━━━━━\u001b[0m \u001b[32m41.0/41.0 kB\u001b[0m \u001b[31m314.9 kB/s\u001b[0m eta \u001b[36m0:00:00\u001b[0m0:01\u001b[0m\n",
      "\u001b[?25h  Preparing metadata (setup.py) ... \u001b[?25ldone\n",
      "\u001b[?25hRequirement already satisfied: pandas in /opt/conda/lib/python3.10/site-packages (1.5.2)\n",
      "Requirement already satisfied: python-dateutil>=2.8.1 in /opt/conda/lib/python3.10/site-packages (from pandas) (2.8.2)\n",
      "Requirement already satisfied: pytz>=2020.1 in /opt/conda/lib/python3.10/site-packages (from pandas) (2022.7)\n",
      "Requirement already satisfied: numpy>=1.21.0 in /opt/conda/lib/python3.10/site-packages (from pandas) (1.23.5)\n",
      "Requirement already satisfied: six>=1.5 in /opt/conda/lib/python3.10/site-packages (from python-dateutil>=2.8.1->pandas) (1.16.0)\n",
      "Building wheels for collected packages: spark\n",
      "  Building wheel for spark (setup.py) ... \u001b[?25ldone\n",
      "\u001b[?25h  Created wheel for spark: filename=spark-0.2.1-py3-none-any.whl size=58748 sha256=afa79a251a7ec86372a8c8e667facda368222221c2f5987f8c0bc7aa4f9bfdea\n",
      "  Stored in directory: /home/jovyan/.cache/pip/wheels/89/3a/8d/19221e83efd8f57618e9a4171bbd9184347bb060723f33a38d\n",
      "Successfully built spark\n",
      "Installing collected packages: spark\n",
      "Successfully installed spark-0.2.1\n",
      "Note: you may need to restart the kernel to use updated packages.\n"
     ]
    }
   ],
   "source": [
    "pip install spark pandas"
   ]
  },
  {
   "cell_type": "code",
   "execution_count": 3,
   "id": "cf72e263-9328-41f4-8d32-103401821364",
   "metadata": {},
   "outputs": [],
   "source": [
    "import pyspark\n",
    "from pyspark.sql import SparkSession"
   ]
  },
  {
   "cell_type": "code",
   "execution_count": 4,
   "id": "e1e6c688-319a-416c-9c2f-965a2b57edc4",
   "metadata": {},
   "outputs": [],
   "source": [
    "spark = SparkSession.builder.appName('Practice').getOrCreate()"
   ]
  },
  {
   "cell_type": "code",
   "execution_count": 5,
   "id": "547577c2-98d4-4ccd-adec-38103b96b4e1",
   "metadata": {},
   "outputs": [
    {
     "data": {
      "text/html": [
       "\n",
       "            <div>\n",
       "                <p><b>SparkSession - in-memory</b></p>\n",
       "                \n",
       "        <div>\n",
       "            <p><b>SparkContext</b></p>\n",
       "\n",
       "            <p><a href=\"http://7ea906f217e1:4040\">Spark UI</a></p>\n",
       "\n",
       "            <dl>\n",
       "              <dt>Version</dt>\n",
       "                <dd><code>v3.3.1</code></dd>\n",
       "              <dt>Master</dt>\n",
       "                <dd><code>local[*]</code></dd>\n",
       "              <dt>AppName</dt>\n",
       "                <dd><code>Practice</code></dd>\n",
       "            </dl>\n",
       "        </div>\n",
       "        \n",
       "            </div>\n",
       "        "
      ],
      "text/plain": [
       "<pyspark.sql.session.SparkSession at 0x7f1ea5b72620>"
      ]
     },
     "execution_count": 5,
     "metadata": {},
     "output_type": "execute_result"
    }
   ],
   "source": [
    "spark"
   ]
  },
  {
   "cell_type": "code",
   "execution_count": 6,
   "id": "af7fae82-d7f1-4a65-9d1d-a1a24477986b",
   "metadata": {},
   "outputs": [],
   "source": [
    "df_spark = spark.read.csv('stores.csv')"
   ]
  },
  {
   "cell_type": "code",
   "execution_count": 8,
   "id": "4b61a102-7cd7-4878-be83-3997f532c569",
   "metadata": {},
   "outputs": [
    {
     "name": "stdout",
     "output_type": "stream",
     "text": [
      "+---------+-------------+--------------------+----+-------+\n",
      "|      _c0|          _c1|                 _c2| _c3|    _c4|\n",
      "+---------+-------------+--------------------+----+-------+\n",
      "|store_nbr|         city|               state|type|cluster|\n",
      "|        1|        Quito|           Pichincha|   D|     13|\n",
      "|        2|        Quito|           Pichincha|   D|     13|\n",
      "|        3|        Quito|           Pichincha|   D|      8|\n",
      "|        4|        Quito|           Pichincha|   D|      9|\n",
      "|        5|Santo Domingo|Santo Domingo de ...|   D|      4|\n",
      "|        6|        Quito|           Pichincha|   D|     13|\n",
      "|        7|        Quito|           Pichincha|   D|      8|\n",
      "|        8|        Quito|           Pichincha|   D|      8|\n",
      "|        9|        Quito|           Pichincha|   B|      6|\n",
      "|       10|        Quito|           Pichincha|   C|     15|\n",
      "|       11|      Cayambe|           Pichincha|   B|      6|\n",
      "|       12|    Latacunga|            Cotopaxi|   C|     15|\n",
      "|       13|    Latacunga|            Cotopaxi|   C|     15|\n",
      "|       14|     Riobamba|          Chimborazo|   C|      7|\n",
      "|       15|       Ibarra|            Imbabura|   C|     15|\n",
      "|       16|Santo Domingo|Santo Domingo de ...|   C|      3|\n",
      "|       17|        Quito|           Pichincha|   C|     12|\n",
      "|       18|        Quito|           Pichincha|   B|     16|\n",
      "|       19|     Guaranda|             Bolivar|   C|     15|\n",
      "+---------+-------------+--------------------+----+-------+\n",
      "only showing top 20 rows\n",
      "\n"
     ]
    }
   ],
   "source": [
    "df_spark.show()"
   ]
  },
  {
   "cell_type": "code",
   "execution_count": 28,
   "id": "136339a5-bd23-4f3d-8b6f-b6e4df41503d",
   "metadata": {},
   "outputs": [],
   "source": [
    "df_spark = spark.read.csv('stores.csv', header=True, inferSchema=True)"
   ]
  },
  {
   "cell_type": "code",
   "execution_count": 16,
   "id": "2661bbe3-293e-4f49-b7f4-abd928010d7f",
   "metadata": {},
   "outputs": [
    {
     "data": {
      "text/plain": [
       "DataFrame[store_nbr: int, city: string, state: string, type: string, cluster: int]"
      ]
     },
     "execution_count": 16,
     "metadata": {},
     "output_type": "execute_result"
    }
   ],
   "source": [
    "df_spark"
   ]
  },
  {
   "cell_type": "code",
   "execution_count": 17,
   "id": "1a713b95-170e-44be-8649-2132d4848954",
   "metadata": {},
   "outputs": [
    {
     "name": "stdout",
     "output_type": "stream",
     "text": [
      "root\n",
      " |-- store_nbr: integer (nullable = true)\n",
      " |-- city: string (nullable = true)\n",
      " |-- state: string (nullable = true)\n",
      " |-- type: string (nullable = true)\n",
      " |-- cluster: integer (nullable = true)\n",
      "\n"
     ]
    }
   ],
   "source": [
    "df_spark.printSchema()"
   ]
  },
  {
   "cell_type": "code",
   "execution_count": 18,
   "id": "aa02f594-9de1-4f5e-8a6d-ce43ac88e8dd",
   "metadata": {},
   "outputs": [
    {
     "name": "stdout",
     "output_type": "stream",
     "text": [
      "+---------+-------------+\n",
      "|store_nbr|         city|\n",
      "+---------+-------------+\n",
      "|        1|        Quito|\n",
      "|        2|        Quito|\n",
      "|        3|        Quito|\n",
      "|        4|        Quito|\n",
      "|        5|Santo Domingo|\n",
      "|        6|        Quito|\n",
      "|        7|        Quito|\n",
      "|        8|        Quito|\n",
      "|        9|        Quito|\n",
      "|       10|        Quito|\n",
      "|       11|      Cayambe|\n",
      "|       12|    Latacunga|\n",
      "|       13|    Latacunga|\n",
      "|       14|     Riobamba|\n",
      "|       15|       Ibarra|\n",
      "|       16|Santo Domingo|\n",
      "|       17|        Quito|\n",
      "|       18|        Quito|\n",
      "|       19|     Guaranda|\n",
      "|       20|        Quito|\n",
      "+---------+-------------+\n",
      "only showing top 20 rows\n",
      "\n"
     ]
    }
   ],
   "source": [
    "df_spark.select(['store_nbr', 'city']).show()"
   ]
  },
  {
   "cell_type": "code",
   "execution_count": 21,
   "id": "90da146b-ac49-4720-86c2-729ab69a9f82",
   "metadata": {},
   "outputs": [],
   "source": [
    "df_spark = df_spark.withColumn('hello', df_spark['store_nbr'] * 5)"
   ]
  },
  {
   "cell_type": "code",
   "execution_count": 23,
   "id": "9db0e502-9a98-4c16-b30b-74b563482f82",
   "metadata": {},
   "outputs": [],
   "source": [
    "df_spark = df_spark.drop('hello')"
   ]
  },
  {
   "cell_type": "code",
   "execution_count": 29,
   "id": "591e57c5-2aaa-40a9-a6ea-507106d0e4a4",
   "metadata": {},
   "outputs": [
    {
     "name": "stdout",
     "output_type": "stream",
     "text": [
      "+---------+-------------+--------------------+----+-------+\n",
      "|store_nbr|         city|               state|type|cluster|\n",
      "+---------+-------------+--------------------+----+-------+\n",
      "|        1|        Quito|           Pichincha|   D|     13|\n",
      "|        2|        Quito|           Pichincha|   D|     13|\n",
      "|        3|        Quito|           Pichincha|   D|      8|\n",
      "|        4|        Quito|           Pichincha|   D|      9|\n",
      "|        5|Santo Domingo|Santo Domingo de ...|   D|      4|\n",
      "|        6|        Quito|           Pichincha|   D|     13|\n",
      "|        7|        Quito|           Pichincha|   D|      8|\n",
      "|        8|        Quito|           Pichincha|   D|      8|\n",
      "|        9|        Quito|           Pichincha|   B|      6|\n",
      "|       10|        Quito|           Pichincha|   C|     15|\n",
      "|       11|      Cayambe|           Pichincha|   B|      6|\n",
      "|       12|    Latacunga|            Cotopaxi|   C|     15|\n",
      "|       13|    Latacunga|            Cotopaxi|   C|     15|\n",
      "|       14|     Riobamba|          Chimborazo|   C|      7|\n",
      "|       15|       Ibarra|            Imbabura|   C|     15|\n",
      "|       16|Santo Domingo|Santo Domingo de ...|   C|      3|\n",
      "|       17|        Quito|           Pichincha|   C|     12|\n",
      "|       18|        Quito|           Pichincha|   B|     16|\n",
      "|       19|     Guaranda|             Bolivar|   C|     15|\n",
      "|       20|        Quito|           Pichincha|   B|      6|\n",
      "+---------+-------------+--------------------+----+-------+\n",
      "only showing top 20 rows\n",
      "\n"
     ]
    }
   ],
   "source": [
    "df_spark.show()"
   ]
  },
  {
   "cell_type": "code",
   "execution_count": 25,
   "id": "23ee64cd-8e8f-4e85-9e3b-a8220815f35b",
   "metadata": {},
   "outputs": [],
   "source": [
    "df_spark = "
   ]
  },
  {
   "cell_type": "code",
   "execution_count": 26,
   "id": "d4e3c6fa-a178-4d45-a2e5-8635c761269e",
   "metadata": {},
   "outputs": [
    {
     "ename": "AttributeError",
     "evalue": "'list' object has no attribute 'show'",
     "output_type": "error",
     "traceback": [
      "\u001b[0;31m---------------------------------------------------------------------------\u001b[0m",
      "\u001b[0;31mAttributeError\u001b[0m                            Traceback (most recent call last)",
      "Cell \u001b[0;32mIn[26], line 1\u001b[0m\n\u001b[0;32m----> 1\u001b[0m \u001b[43mdf_spark\u001b[49m\u001b[38;5;241;43m.\u001b[39;49m\u001b[43mshow\u001b[49m()\n",
      "\u001b[0;31mAttributeError\u001b[0m: 'list' object has no attribute 'show'"
     ]
    }
   ],
   "source": []
  },
  {
   "cell_type": "code",
   "execution_count": null,
   "id": "577c8786-e6c2-4bfd-bec6-fdf5dbb9b28d",
   "metadata": {},
   "outputs": [],
   "source": []
  }
 ],
 "metadata": {
  "kernelspec": {
   "display_name": "Python 3 (ipykernel)",
   "language": "python",
   "name": "python3"
  },
  "language_info": {
   "codemirror_mode": {
    "name": "ipython",
    "version": 3
   },
   "file_extension": ".py",
   "mimetype": "text/x-python",
   "name": "python",
   "nbconvert_exporter": "python",
   "pygments_lexer": "ipython3",
   "version": "3.10.8"
  }
 },
 "nbformat": 4,
 "nbformat_minor": 5
}
